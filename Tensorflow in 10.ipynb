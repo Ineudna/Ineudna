import pandas as pd
import numpy as np
from sklearn.model_selection import train_test_split
from sklearn.preprocessing import LabelEncoder, StandardScaler
import tensorflow as tf
from tensorflow.keras.models import Sequential
from tensorflow.keras.layers import Dense, Dropout

# -----------------------------
# 1. Load Modified Dataset
# -----------------------------
file_path = "Modified_Churn.csv"  # Make sure the modified file is in the same folder

data = pd.read_csv(file_path)

# Drop ID column since it is not useful for prediction
data = data.drop("ClientID", axis=1)

# -----------------------------
# 2. Preprocess Data
# -----------------------------
# Convert categorical variables to numeric using LabelEncoder
label_encoders = {}
for col in data.select_dtypes(include=['object']).columns:
    le = LabelEncoder()
    data[col] = le.fit_transform(data[col].astype(str))
    label_encoders[col] = le

# Separate features and labels
features = data.drop("Exited", axis=1)
labels = data["Exited"]

# Scale numeric features
scaler = StandardScaler()
features_scaled = scaler.fit_transform(features)

# Train-test split (75% train, 25% test)
X_train, X_test, y_train, y_test = train_test_split(
    features_scaled, labels, test_size=0.25, random_state=42
)

# -----------------------------
# 3. Build Neural Network Model
# -----------------------------
model = Sequential([
    Dense(32, activation='relu', input_shape=(X_train.shape[1],)),
    Dropout(0.2),
    Dense(16, activation='relu'),
    Dense(8, activation='relu'),
    Dense(1, activation='sigmoid')
])

# Compile model
model.compile(optimizer='adam', loss='binary_crossentropy', metrics=['accuracy'])

# -----------------------------
# 4. Train Model
# -----------------------------
history = model.fit(
    X_train, y_train,
    epochs=20,
    batch_size=32,
    validation_data=(X_test, y_test),
    verbose=1
)

# -----------------------------
# 5. Evaluate Model
# -----------------------------
loss, accuracy = model.evaluate(X_test, y_test, verbose=0)
print(f"Test Accuracy: {accuracy:.2f}")
